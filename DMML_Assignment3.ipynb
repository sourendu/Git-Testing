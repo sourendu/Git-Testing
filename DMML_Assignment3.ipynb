{
 "cells": [
  {
   "cell_type": "code",
   "execution_count": 44,
   "metadata": {
    "id": "zLVIIutJIYC1"
   },
   "outputs": [],
   "source": [
    "import numpy as np\n",
    "from sklearn.cluster import KMeans\n",
    "import matplotlib.pyplot as plt\n",
    "from sklearn.linear_model import LogisticRegression"
   ]
  },
  {
   "cell_type": "markdown",
   "metadata": {
    "id": "JydMuYZ2t3Zy"
   },
   "source": [
    "Importing Dataset"
   ]
  },
  {
   "cell_type": "code",
   "execution_count": 45,
   "metadata": {
    "id": "IulzenKzMdap"
   },
   "outputs": [],
   "source": [
    "from keras.datasets import fashion_mnist\n",
    "(X_train, y_train),(X_test, y_test) = fashion_mnist.load_data()"
   ]
  },
  {
   "cell_type": "code",
   "execution_count": 46,
   "metadata": {
    "colab": {
     "base_uri": "https://localhost:8080/"
    },
    "id": "6J1mAnPRM9jg",
    "outputId": "ab258753-ea02-415d-f4c9-52f82f1f46c4"
   },
   "outputs": [
    {
     "data": {
      "text/plain": [
       "((60000, 28, 28), (10000, 28, 28), (60000,), (10000,))"
      ]
     },
     "execution_count": 46,
     "metadata": {
      "tags": []
     },
     "output_type": "execute_result"
    }
   ],
   "source": [
    "X_train.shape, X_test.shape, y_train.shape, y_test.shape, "
   ]
  },
  {
   "cell_type": "code",
   "execution_count": 47,
   "metadata": {
    "id": "WY-ImIyNcGx0"
   },
   "outputs": [],
   "source": [
    "## converting 3D array to 2D array \n",
    "X_train = X_train/255\n",
    "X_test = X_test/255\n",
    "X2d_train = X_train.reshape(60000,-1)\n",
    "X2d_test = X_test.reshape(10000,-1)"
   ]
  },
  {
   "cell_type": "code",
   "execution_count": 48,
   "metadata": {
    "colab": {
     "base_uri": "https://localhost:8080/"
    },
    "id": "Pi7Soh2hcGjl",
    "outputId": "13eedccc-74f2-4791-903e-7849ebf11ad5"
   },
   "outputs": [
    {
     "data": {
      "text/plain": [
       "((60000, 784), (10000, 784), (60000,), (10000,))"
      ]
     },
     "execution_count": 48,
     "metadata": {
      "tags": []
     },
     "output_type": "execute_result"
    }
   ],
   "source": [
    "X2d_train.shape, X2d_test.shape, y_train.shape, y_test.shape, "
   ]
  },
  {
   "cell_type": "markdown",
   "metadata": {
    "id": "Vr7qwDXOuJOq"
   },
   "source": [
    "Logistic Regression for the whole data"
   ]
  },
  {
   "cell_type": "code",
   "execution_count": 50,
   "metadata": {
    "colab": {
     "base_uri": "https://localhost:8080/"
    },
    "id": "yPdEFyVerB3K",
    "outputId": "ca5baf07-8ab0-41bd-8a43-c69826e7064a"
   },
   "outputs": [
    {
     "name": "stderr",
     "output_type": "stream",
     "text": [
      "/usr/local/lib/python3.7/dist-packages/sklearn/linear_model/_logistic.py:940: ConvergenceWarning: lbfgs failed to converge (status=1):\n",
      "STOP: TOTAL NO. of ITERATIONS REACHED LIMIT.\n",
      "\n",
      "Increase the number of iterations (max_iter) or scale the data as shown in:\n",
      "    https://scikit-learn.org/stable/modules/preprocessing.html\n",
      "Please also refer to the documentation for alternative solver options:\n",
      "    https://scikit-learn.org/stable/modules/linear_model.html#logistic-regression\n",
      "  extra_warning_msg=_LOGISTIC_SOLVER_CONVERGENCE_MSG)\n",
      "/usr/local/lib/python3.7/dist-packages/sklearn/linear_model/_logistic.py:940: ConvergenceWarning: lbfgs failed to converge (status=1):\n",
      "STOP: TOTAL NO. of ITERATIONS REACHED LIMIT.\n",
      "\n",
      "Increase the number of iterations (max_iter) or scale the data as shown in:\n",
      "    https://scikit-learn.org/stable/modules/preprocessing.html\n",
      "Please also refer to the documentation for alternative solver options:\n",
      "    https://scikit-learn.org/stable/modules/linear_model.html#logistic-regression\n",
      "  extra_warning_msg=_LOGISTIC_SOLVER_CONVERGENCE_MSG)\n",
      "/usr/local/lib/python3.7/dist-packages/sklearn/linear_model/_logistic.py:940: ConvergenceWarning: lbfgs failed to converge (status=1):\n",
      "STOP: TOTAL NO. of ITERATIONS REACHED LIMIT.\n",
      "\n",
      "Increase the number of iterations (max_iter) or scale the data as shown in:\n",
      "    https://scikit-learn.org/stable/modules/preprocessing.html\n",
      "Please also refer to the documentation for alternative solver options:\n",
      "    https://scikit-learn.org/stable/modules/linear_model.html#logistic-regression\n",
      "  extra_warning_msg=_LOGISTIC_SOLVER_CONVERGENCE_MSG)\n",
      "/usr/local/lib/python3.7/dist-packages/sklearn/linear_model/_logistic.py:940: ConvergenceWarning: lbfgs failed to converge (status=1):\n",
      "STOP: TOTAL NO. of ITERATIONS REACHED LIMIT.\n",
      "\n",
      "Increase the number of iterations (max_iter) or scale the data as shown in:\n",
      "    https://scikit-learn.org/stable/modules/preprocessing.html\n",
      "Please also refer to the documentation for alternative solver options:\n",
      "    https://scikit-learn.org/stable/modules/linear_model.html#logistic-regression\n",
      "  extra_warning_msg=_LOGISTIC_SOLVER_CONVERGENCE_MSG)\n",
      "/usr/local/lib/python3.7/dist-packages/sklearn/linear_model/_logistic.py:940: ConvergenceWarning: lbfgs failed to converge (status=1):\n",
      "STOP: TOTAL NO. of ITERATIONS REACHED LIMIT.\n",
      "\n",
      "Increase the number of iterations (max_iter) or scale the data as shown in:\n",
      "    https://scikit-learn.org/stable/modules/preprocessing.html\n",
      "Please also refer to the documentation for alternative solver options:\n",
      "    https://scikit-learn.org/stable/modules/linear_model.html#logistic-regression\n",
      "  extra_warning_msg=_LOGISTIC_SOLVER_CONVERGENCE_MSG)\n",
      "/usr/local/lib/python3.7/dist-packages/sklearn/linear_model/_logistic.py:940: ConvergenceWarning: lbfgs failed to converge (status=1):\n",
      "STOP: TOTAL NO. of ITERATIONS REACHED LIMIT.\n",
      "\n",
      "Increase the number of iterations (max_iter) or scale the data as shown in:\n",
      "    https://scikit-learn.org/stable/modules/preprocessing.html\n",
      "Please also refer to the documentation for alternative solver options:\n",
      "    https://scikit-learn.org/stable/modules/linear_model.html#logistic-regression\n",
      "  extra_warning_msg=_LOGISTIC_SOLVER_CONVERGENCE_MSG)\n",
      "/usr/local/lib/python3.7/dist-packages/sklearn/linear_model/_logistic.py:940: ConvergenceWarning: lbfgs failed to converge (status=1):\n",
      "STOP: TOTAL NO. of ITERATIONS REACHED LIMIT.\n",
      "\n",
      "Increase the number of iterations (max_iter) or scale the data as shown in:\n",
      "    https://scikit-learn.org/stable/modules/preprocessing.html\n",
      "Please also refer to the documentation for alternative solver options:\n",
      "    https://scikit-learn.org/stable/modules/linear_model.html#logistic-regression\n",
      "  extra_warning_msg=_LOGISTIC_SOLVER_CONVERGENCE_MSG)\n",
      "/usr/local/lib/python3.7/dist-packages/sklearn/linear_model/_logistic.py:940: ConvergenceWarning: lbfgs failed to converge (status=1):\n",
      "STOP: TOTAL NO. of ITERATIONS REACHED LIMIT.\n",
      "\n",
      "Increase the number of iterations (max_iter) or scale the data as shown in:\n",
      "    https://scikit-learn.org/stable/modules/preprocessing.html\n",
      "Please also refer to the documentation for alternative solver options:\n",
      "    https://scikit-learn.org/stable/modules/linear_model.html#logistic-regression\n",
      "  extra_warning_msg=_LOGISTIC_SOLVER_CONVERGENCE_MSG)\n",
      "/usr/local/lib/python3.7/dist-packages/sklearn/linear_model/_logistic.py:940: ConvergenceWarning: lbfgs failed to converge (status=1):\n",
      "STOP: TOTAL NO. of ITERATIONS REACHED LIMIT.\n",
      "\n",
      "Increase the number of iterations (max_iter) or scale the data as shown in:\n",
      "    https://scikit-learn.org/stable/modules/preprocessing.html\n",
      "Please also refer to the documentation for alternative solver options:\n",
      "    https://scikit-learn.org/stable/modules/linear_model.html#logistic-regression\n",
      "  extra_warning_msg=_LOGISTIC_SOLVER_CONVERGENCE_MSG)\n",
      "/usr/local/lib/python3.7/dist-packages/sklearn/linear_model/_logistic.py:940: ConvergenceWarning: lbfgs failed to converge (status=1):\n",
      "STOP: TOTAL NO. of ITERATIONS REACHED LIMIT.\n",
      "\n",
      "Increase the number of iterations (max_iter) or scale the data as shown in:\n",
      "    https://scikit-learn.org/stable/modules/preprocessing.html\n",
      "Please also refer to the documentation for alternative solver options:\n",
      "    https://scikit-learn.org/stable/modules/linear_model.html#logistic-regression\n",
      "  extra_warning_msg=_LOGISTIC_SOLVER_CONVERGENCE_MSG)\n"
     ]
    },
    {
     "data": {
      "text/plain": [
       "0.8416"
      ]
     },
     "execution_count": 50,
     "metadata": {
      "tags": []
     },
     "output_type": "execute_result"
    }
   ],
   "source": [
    "log_reg = LogisticRegression(multi_class=\"ovr\", solver=\"lbfgs\", \n",
    "                             random_state=42)\n",
    "log_reg.fit(X2d_train, y_train)\n",
    "log_reg.score(X2d_test, y_test)"
   ]
  },
  {
   "cell_type": "code",
   "execution_count": 51,
   "metadata": {
    "colab": {
     "base_uri": "https://localhost:8080/"
    },
    "id": "haEuAebQzy3t",
    "outputId": "39fa2555-fd25-4cf8-c863-465b54566c82"
   },
   "outputs": [
    {
     "name": "stdout",
     "output_type": "stream",
     "text": [
      "50 0.6213\n",
      "100 0.7218\n",
      "150 0.7424\n",
      "200 0.7578\n",
      "250 0.7615\n",
      "300 0.7632\n"
     ]
    }
   ],
   "source": [
    "clusters = [50, 100, 150, 200, 250, 300]\n",
    "score = []\n",
    "for i in clusters:\n",
    "  kmeans = KMeans(n_clusters=i, random_state=42)\n",
    "  X_image_dist = kmeans.fit_transform(X2d_train)\n",
    "  representative_image = np.argmin(X_image_dist, axis=0)\n",
    "  X_representative_image = X_train[representative_image]\n",
    "  y_representative_image = y_train[representative_image][:]\n",
    "  X_representative_image = X_representative_image.reshape(i,784)\n",
    "  log_reg = LogisticRegression(multi_class=\"ovr\", solver=\"saga\", \n",
    "                               max_iter=5000, random_state=42)\n",
    "  log_reg.fit(X_representative_image, y_representative_image)\n",
    "  scorei = log_reg.score(X2d_test, y_test)\n",
    "  print(i,scorei)\n",
    "  score.append(scorei) "
   ]
  },
  {
   "cell_type": "markdown",
   "metadata": {
    "id": "f9x4epqBucD_"
   },
   "source": [
    "Visualzing Score vs number of clusters graph For (50, 100, 150, 200, 250, 300)"
   ]
  },
  {
   "cell_type": "code",
   "execution_count": 56,
   "metadata": {
    "colab": {
     "base_uri": "https://localhost:8080/",
     "height": 295
    },
    "id": "hHmVK2UoWtRF",
    "outputId": "09db1a87-3de9-4587-d4a9-704e0d961fee"
   },
   "outputs": [
    {
     "data": {
      "image/png": "[encoded data removed]",
      "text/plain": [
       "<Figure size 432x288 with 1 Axes>"
      ]
     },
     "metadata": {
      "needs_background": "light",
      "tags": []
     },
     "output_type": "display_data"
    }
   ],
   "source": [
    "x = clusters\n",
    "y = [i*100 for i in score]\n",
    "plt.plot(x,y)\n",
    "plt.xlabel(\"number of clusters\")\n",
    "plt.ylabel(\"score\")\n",
    "plt.title(\"semi-supervised clustering\")\n",
    "plt.show()"
   ]
  },
  {
   "cell_type": "markdown",
   "metadata": {
    "id": "-uOfI0v7uzMe"
   },
   "source": [
    "Because from 200 the score converges we take finer margin for number of cluster"
   ]
  },
  {
   "cell_type": "code",
   "execution_count": 57,
   "metadata": {
    "colab": {
     "base_uri": "https://localhost:8080/"
    },
    "id": "kFPhTNWrzy0h",
    "outputId": "78f32c73-ec22-4fe4-b8ff-0e6421470ea0"
   },
   "outputs": [
    {
     "name": "stdout",
     "output_type": "stream",
     "text": [
      "170 0.7493\n",
      "180 0.7486\n",
      "190 0.7605\n",
      "200 0.7578\n",
      "210 0.7655\n",
      "220 0.7709\n",
      "230 0.7638\n"
     ]
    }
   ],
   "source": [
    "clusters1 = [170,180,190,200,210,220,230]\n",
    "score1 = []\n",
    "for i in clusters1:\n",
    "  kmeans = KMeans(n_clusters=i, random_state=42)\n",
    "  X_image_dist = kmeans.fit_transform(X2d_train)\n",
    "  representative_image = np.argmin(X_image_dist, axis=0)\n",
    "  X_representative_image = X_train[representative_image]\n",
    "  y_representative_image = y_train[representative_image][:]\n",
    "  X_representative_image = X_representative_image.reshape(i,784)\n",
    "  log_reg = LogisticRegression(multi_class=\"ovr\", solver=\"saga\", \n",
    "                               max_iter=5000, random_state=42)\n",
    "  log_reg.fit(X_representative_image, y_representative_image)\n",
    "  scorei = log_reg.score(X2d_test, y_test)\n",
    "  print(i,scorei)\n",
    "  score1.append(scorei)"
   ]
  },
  {
   "cell_type": "code",
   "execution_count": 60,
   "metadata": {
    "id": "Q2JZAPquryu0"
   },
   "outputs": [],
   "source": [
    "score1 = [i*100 for i in score1]\n",
    "new_clusters = clusters[:3]+clusters1+clusters[4:]\n",
    "new_scores = score[:3] + score1+score[4:]"
   ]
  },
  {
   "cell_type": "markdown",
   "metadata": {
    "id": "AMqtGQSNvMaK"
   },
   "source": [
    "Visualizing for finer number of cluster"
   ]
  },
  {
   "cell_type": "code",
   "execution_count": 61,
   "metadata": {
    "colab": {
     "base_uri": "https://localhost:8080/",
     "height": 295
    },
    "id": "LGF5GNmcH-SE",
    "outputId": "8e9755c8-6956-47e6-f1e8-b0c21b9e66db"
   },
   "outputs": [
    {
     "data": {
      "image/png": "[encoded data removed]",
      "text/plain": [
       "<Figure size 432x288 with 1 Axes>"
      ]
     },
     "metadata": {
      "needs_background": "light",
      "tags": []
     },
     "output_type": "display_data"
    }
   ],
   "source": [
    "plt.plot(new_clusters, new_scores)\n",
    "plt.xlabel(\"number of clusters\")\n",
    "plt.ylabel(\"score\")\n",
    "plt.title(\"semi-supervised clustering\")\n",
    "plt.show()"
   ]
  },
  {
   "cell_type": "markdown",
   "metadata": {
    "id": "264ifs3BvUjR"
   },
   "source": [
    "Choose suitable value of K as number of cluster and propaggate through whole. As we observe score is the maximum near 220 so we choose 220 as our no. of clusters."
   ]
  },
  {
   "cell_type": "code",
   "execution_count": 69,
   "metadata": {
    "id": "svzwq3kpsqQQ"
   },
   "outputs": [],
   "source": [
    "k = 220"
   ]
  },
  {
   "cell_type": "code",
   "execution_count": 71,
   "metadata": {
    "id": "hHZZCWH8srIL"
   },
   "outputs": [],
   "source": [
    "kmeans = KMeans(n_clusters=k, random_state=42)\n",
    "X_image_dist = kmeans.fit_transform(X2d_train)\n",
    "representative_image = np.argmin(X_image_dist, axis=0)\n",
    "X_representative_image = X_train[representative_image]\n",
    "y_representative_image = y_train[representative_image][:]\n",
    "X_representative_image = X_representative_image.reshape(k,784)\n",
    "y_train_propagated = np.empty(len(X2d_train),dtype = np.int32)\n",
    "for i in range(k):\n",
    "    y_train_propagated[kmeans.labels_ == i] = y_representative_image[i]"
   ]
  },
  {
   "cell_type": "code",
   "execution_count": null,
   "metadata": {
    "id": "ZxAOu9iLsylU"
   },
   "outputs": [],
   "source": [
    "log_reg = LogisticRegression(multi_class=\"auto\", solver=\"sag\", max_iter=10000, random_state=42)\n",
    "log_reg.fit(X2d_train, y_train_propagated)\n",
    "log_reg.score(X2d_test, y_test)"
   ]
  },
  {
   "cell_type": "code",
   "execution_count": null,
   "metadata": {
    "id": "oRskJ3Fns833"
   },
   "outputs": [],
   "source": [
    "percentile_closest = 20\n",
    "\n",
    "X_cluster_dist = X_digits_dist[np.arange(len(X2d_train)), kmeans.labels_]\n",
    "for i in range(k):\n",
    "  in_cluster = (kmeans.labels_ == i)\n",
    "  cluster_dist = X_cluster_dist[in_cluster]\n",
    "  cutoff_distance = np.percentile(cluster_dist, percentile_closest)\n",
    "  above_cutoff = (X_cluster_dist > cutoff_distance)\n",
    "  X_cluster_dist[in_cluster & above_cutoff] = -1\n",
    "partially_propagated = (X_cluster_dist != -1)\n",
    "X_train_partially_propagated = X_train[partially_propagated]\n",
    "y_train_partially_propagated = y_train_propagated[partially_propagated]"
   ]
  },
  {
   "cell_type": "code",
   "execution_count": null,
   "metadata": {
    "id": "_ku2CXm3tJrP"
   },
   "outputs": [],
   "source": [
    "log_reg = LogisticRegression(multi_class=\"ovr\", solver=\"sag\", max_iter=5000, random_state=42)\n",
    "log_reg.fit(X_train_partially_propagated, y_train_partially_propagated)\n",
    "log_reg.score(X2d_test, Y_test)"
   ]
  },
  {
   "cell_type": "markdown",
   "metadata": {},
   "source": [
    "## This does not improve accuracy significantly. Hence we choose the propegate through the entire cluster for the 220 clusters. "
   ]
  },
  {
   "cell_type": "code",
   "execution_count": null,
   "metadata": {},
   "outputs": [],
   "source": []
  }
 ],
 "metadata": {
  "colab": {
   "collapsed_sections": [],
   "name": "ass3.ipynb",
   "provenance": []
  },
  "kernelspec": {
   "display_name": "Python 3",
   "language": "python",
   "name": "python3"
  },
  "language_info": {
   "codemirror_mode": {
    "name": "ipython",
    "version": 3
   },
   "file_extension": ".py",
   "mimetype": "text/x-python",
   "name": "python",
   "nbconvert_exporter": "python",
   "pygments_lexer": "ipython3",
   "version": "3.8.5"
  }
 },
 "nbformat": 4,
 "nbformat_minor": 1
}
